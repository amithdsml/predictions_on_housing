{
 "cells": [
  {
   "cell_type": "markdown",
   "id": "3b3f8f43",
   "metadata": {},
   "source": [
    "## Housing data"
   ]
  },
  {
   "cell_type": "markdown",
   "id": "260a787a",
   "metadata": {},
   "source": [
    "*modules*"
   ]
  },
  {
   "cell_type": "code",
   "execution_count": 1,
   "id": "5340ca91",
   "metadata": {},
   "outputs": [],
   "source": [
    "import pandas as pd\n",
    "\n",
    "import numpy as np\n",
    "\n",
    "import os\n",
    "\n",
    "import tarfile\n",
    "\n",
    "from six.moves import urllib"
   ]
  },
  {
   "cell_type": "code",
   "execution_count": 6,
   "id": "0cb3d4e0",
   "metadata": {},
   "outputs": [],
   "source": [
    "download_root = \"https://raw.githubusercontent.com/ageron/handson-ml2/master\"\n",
    "housing_path = os.path.join(\"datasets\",\"housing\")\n",
    "housing_url = download_root + \"datasets/housing/housing.tgz\""
   ]
  },
  {
   "cell_type": "code",
   "execution_count": null,
   "id": "46e84944",
   "metadata": {},
   "outputs": [],
   "source": []
  }
 ],
 "metadata": {
  "kernelspec": {
   "display_name": "Python 3 (ipykernel)",
   "language": "python",
   "name": "python3"
  },
  "language_info": {
   "codemirror_mode": {
    "name": "ipython",
    "version": 3
   },
   "file_extension": ".py",
   "mimetype": "text/x-python",
   "name": "python",
   "nbconvert_exporter": "python",
   "pygments_lexer": "ipython3",
   "version": "3.9.12"
  }
 },
 "nbformat": 4,
 "nbformat_minor": 5
}
